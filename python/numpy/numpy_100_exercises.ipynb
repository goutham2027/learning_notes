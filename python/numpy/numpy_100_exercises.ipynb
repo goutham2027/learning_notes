{
 "cells": [
  {
   "cell_type": "code",
   "execution_count": 1,
   "metadata": {},
   "outputs": [],
   "source": [
    "import numpy as np"
   ]
  },
  {
   "cell_type": "code",
   "execution_count": 2,
   "metadata": {},
   "outputs": [
    {
     "name": "stdout",
     "output_type": "stream",
     "text": [
      "[0. 0. 0. 0. 0. 0. 0. 0. 0. 0.]\n"
     ]
    }
   ],
   "source": [
    "#3. Create a null vector of size 10\n",
    "arr = np.zeros(10)\n",
    "print(arr)"
   ]
  },
  {
   "cell_type": "code",
   "execution_count": 3,
   "metadata": {},
   "outputs": [
    {
     "name": "stdout",
     "output_type": "stream",
     "text": [
      "[0. 0. 0. 0. 1. 0. 0. 0. 0. 0.]\n"
     ]
    }
   ],
   "source": [
    "#6. Create a null vector of size 10 but the fifth value which is 1\n",
    "arr = np.zeros(10)\n",
    "arr[4] = 1\n",
    "print(arr)"
   ]
  },
  {
   "cell_type": "code",
   "execution_count": 4,
   "metadata": {},
   "outputs": [
    {
     "name": "stdout",
     "output_type": "stream",
     "text": [
      "[10 11 12 13 14 15 16 17 18 19 20 21 22 23 24 25 26 27 28 29 30 31 32 33\n",
      " 34 35 36 37 38 39 40 41 42 43 44 45 46 47 48 49]\n"
     ]
    }
   ],
   "source": [
    "#7. Create a vector with values randing from 10 to 49\n",
    "arr = np.arange(10,50)\n",
    "print(arr)"
   ]
  },
  {
   "cell_type": "code",
   "execution_count": 5,
   "metadata": {},
   "outputs": [
    {
     "name": "stdout",
     "output_type": "stream",
     "text": [
      "[0 1 2 3 4 5 6 7 8 9]\n",
      "## Reversed ##\n",
      "[9 8 7 6 5 4 3 2 1 0]\n"
     ]
    }
   ],
   "source": [
    "#8. Reverse a vector (first element becomes last)\n",
    "arr = np.arange(10)\n",
    "print(arr)\n",
    "print(\"## Reversed ##\")\n",
    "print(arr[::-1])"
   ]
  },
  {
   "cell_type": "code",
   "execution_count": 6,
   "metadata": {},
   "outputs": [
    {
     "name": "stdout",
     "output_type": "stream",
     "text": [
      "[[0 1 2]\n",
      " [3 4 5]\n",
      " [6 7 8]]\n"
     ]
    }
   ],
   "source": [
    "#9. Create a 3x3 matric with values randing from 0 to 8\n",
    "arr = np.arange(9).reshape((3,3))\n",
    "print(arr)"
   ]
  },
  {
   "cell_type": "code",
   "execution_count": 11,
   "metadata": {},
   "outputs": [
    {
     "name": "stdout",
     "output_type": "stream",
     "text": [
      "(array([0, 1, 3, 4]),)\n",
      "(array([0, 1, 3, 4]),)\n"
     ]
    }
   ],
   "source": [
    "#10. Find indices of non-zero elements from [1,2,0,9,4,0]\n",
    "arr = np.array([1,2,0,9,4,0])\n",
    "print(np.where(arr != 0))\n",
    "print(np.nonzero(arr))\n"
   ]
  },
  {
   "cell_type": "code",
   "execution_count": 15,
   "metadata": {},
   "outputs": [
    {
     "name": "stdout",
     "output_type": "stream",
     "text": [
      "[[1. 0. 0.]\n",
      " [0. 1. 0.]\n",
      " [0. 0. 1.]]\n"
     ]
    }
   ],
   "source": [
    "#11. Create a 3x3 identity matrix\n",
    "arr1 = np.eye(3)\n",
    "print(arr1)"
   ]
  },
  {
   "cell_type": "code",
   "execution_count": 18,
   "metadata": {},
   "outputs": [
    {
     "name": "stdout",
     "output_type": "stream",
     "text": [
      "[[[ 0.72681118  1.07615181 -0.93020372]\n",
      "  [ 0.67776624 -0.24659763 -0.69092744]\n",
      "  [ 0.24561025  1.39030743 -0.09857325]]\n",
      "\n",
      " [[ 1.16226889  0.14957385  0.44113435]\n",
      "  [-0.69290925 -0.49167    -0.53871596]\n",
      "  [ 0.30549777 -0.13644474 -0.13768893]]\n",
      "\n",
      " [[ 0.62706747  1.43976595  0.7049763 ]\n",
      "  [-0.49426272  0.01521092 -0.74059881]\n",
      "  [ 0.4493396   3.08858392 -0.7719786 ]]]\n",
      "[[[0.57497063 0.25016441 0.33117325]\n",
      "  [0.28687881 0.96023245 0.6601462 ]\n",
      "  [0.73683103 0.19722735 0.00365761]]\n",
      "\n",
      " [[0.18400951 0.30009941 0.98485783]\n",
      "  [0.66817872 0.17756751 0.16467175]\n",
      "  [0.98185984 0.47163779 0.3938059 ]]\n",
      "\n",
      " [[0.80051364 0.35883034 0.76113042]\n",
      "  [0.89508026 0.266341   0.05321799]\n",
      "  [0.94758105 0.59906238 0.84149207]]]\n"
     ]
    }
   ],
   "source": [
    "#12. Create a 3x3x3 array with random values\n",
    "arr = np.random.randn(27).reshape(3,3,3)\n",
    "print(arr)\n",
    "\n",
    "arr1 = np.random.random((3,3,3))\n",
    "print(arr1)"
   ]
  },
  {
   "cell_type": "code",
   "execution_count": 25,
   "metadata": {},
   "outputs": [
    {
     "name": "stdout",
     "output_type": "stream",
     "text": [
      "[[0.47800534 0.33130414 0.72170224 0.64539378 0.45272782 0.21673895\n",
      "  0.21579432 0.91829139 0.84672194 0.12855828]\n",
      " [0.28206716 0.45035488 0.43436143 0.18375028 0.99242568 0.40426218\n",
      "  0.81985009 0.66596576 0.01447895 0.68269641]\n",
      " [0.18781253 0.61366828 0.65258493 0.79155647 0.28430325 0.35593077\n",
      "  0.44273662 0.60000515 0.05229507 0.73564612]\n",
      " [0.10936241 0.85949046 0.81108007 0.56429716 0.9889073  0.66260556\n",
      "  0.44646535 0.0150886  0.40267613 0.56703828]\n",
      " [0.40627617 0.6082073  0.97062287 0.0255415  0.7077029  0.94128117\n",
      "  0.44574715 0.16168596 0.7613284  0.76844433]\n",
      " [0.05784926 0.85415347 0.80007213 0.37556827 0.22676441 0.42047786\n",
      "  0.14295417 0.44357476 0.80692744 0.24950449]\n",
      " [0.18521154 0.81951844 0.35412362 0.68189773 0.500634   0.4613295\n",
      "  0.76317044 0.7756336  0.16177047 0.41640272]\n",
      " [0.94780455 0.69147739 0.53712297 0.75491468 0.84666515 0.8352825\n",
      "  0.28694433 0.21208171 0.63414217 0.69370493]\n",
      " [0.59011911 0.35338737 0.98069287 0.87417324 0.62788858 0.26921003\n",
      "  0.33534455 0.25042266 0.98676655 0.33288551]\n",
      " [0.86343151 0.04885245 0.76812428 0.10961795 0.80764555 0.7939945\n",
      "  0.30889162 0.7494642  0.03413766 0.5695633 ]]\n",
      "0.9924256802298491\n",
      "0.014478954765480667\n"
     ]
    }
   ],
   "source": [
    "#13. Create a 10x10 array with random values and find the minimum and maximum values\n",
    "arr = np.random.random((10, 10))\n",
    "print(arr)\n",
    "print(arr.max())\n",
    "print(arr.min())"
   ]
  },
  {
   "cell_type": "code",
   "execution_count": 26,
   "metadata": {},
   "outputs": [
    {
     "name": "stdout",
     "output_type": "stream",
     "text": [
      "0.47185784529379415\n"
     ]
    }
   ],
   "source": [
    "#14. Create a random vector of size 30 and find the mean value\n",
    "arr = np.random.random(30)\n",
    "print(arr.mean())"
   ]
  },
  {
   "cell_type": "code",
   "execution_count": 28,
   "metadata": {},
   "outputs": [
    {
     "name": "stdout",
     "output_type": "stream",
     "text": [
      "[[1. 1. 1.]\n",
      " [1. 0. 1.]\n",
      " [1. 1. 1.]]\n"
     ]
    }
   ],
   "source": [
    "#15. Create a 2d array with 1 on the border and 0 inside\n",
    "arr = np.ones((3,3))\n",
    "#arr[1][1] = 0\n",
    "arr[1:-1, 1:-1] = 0\n",
    "print(arr)"
   ]
  },
  {
   "cell_type": "code",
   "execution_count": null,
   "metadata": {},
   "outputs": [],
   "source": []
  }
 ],
 "metadata": {
  "kernelspec": {
   "display_name": "Python 3",
   "language": "python",
   "name": "python3"
  },
  "language_info": {
   "codemirror_mode": {
    "name": "ipython",
    "version": 3
   },
   "file_extension": ".py",
   "mimetype": "text/x-python",
   "name": "python",
   "nbconvert_exporter": "python",
   "pygments_lexer": "ipython3",
   "version": "3.6.4"
  }
 },
 "nbformat": 4,
 "nbformat_minor": 2
}
