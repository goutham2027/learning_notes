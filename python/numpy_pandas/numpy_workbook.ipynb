{
 "cells": [
  {
   "cell_type": "code",
   "execution_count": 38,
   "metadata": {},
   "outputs": [],
   "source": [
    "# May 16, 2018 - Wednesday\n",
    "import numpy as np"
   ]
  },
  {
   "cell_type": "code",
   "execution_count": 11,
   "metadata": {},
   "outputs": [
    {
     "name": "stdout",
     "output_type": "stream",
     "text": [
      "list comprehension: [1.1, 2.2, 1.3000000000000003, 1.4000000000000004, 2.5000000000000004]\n",
      "The slowest run took 5.14 times longer than the fastest. This could mean that an intermediate result is being cached.\n",
      "100000 loops, best of 3: 2.14 µs per loop\n",
      "np.where: [1.1 2.2 1.3 1.4 2.5]\n",
      "The slowest run took 6.32 times longer than the fastest. This could mean that an intermediate result is being cached.\n",
      "1000000 loops, best of 3: 1.11 µs per loop\n"
     ]
    }
   ],
   "source": [
    "xarr = np.arange(1.1, 1.6, 0.1)\n",
    "yarr = np.arange(2.1, 2.6, 0.1)\n",
    "cond = np.array([True, False, True, True, False])\n",
    "\n",
    "# take a value form xarr whenever the corresponding value in cond is True else take value from yarr\n",
    "\n",
    "# list comprehension implementation\n",
    "# cons with this approach:\n",
    "# - Will not be very fast for large arrays because all the work is being done in interpreted Python code.\n",
    "# - This implementation will not work with multi dimensional arrays.\n",
    "result = [(x if c else y) for x, y, c in zip(xarr, yarr, cond)]\n",
    "print(\"list comprehension: {}\".format(result))\n",
    "%timeit [(x if c else y) for x, y, c in zip(xarr, yarr, cond)]\n",
    "\n",
    "# np.where implementation\n",
    "result = np.where(cond, xarr, yarr)\n",
    "print(\"np.where: {}\".format(result))\n",
    "%timeit np.where(cond, xarr, yarr)\n"
   ]
  },
  {
   "cell_type": "code",
   "execution_count": 24,
   "metadata": {},
   "outputs": [
    {
     "name": "stdout",
     "output_type": "stream",
     "text": [
      "[[ 1.5837535  -0.91619305  0.53203777  0.59315364  0.5890131 ]\n",
      " [ 0.04447702  0.24937974  0.5746041   0.53209824 -1.22144794]\n",
      " [-2.17146425 -0.73129384 -0.67400433  0.55720018  0.54632832]\n",
      " [-1.21118989 -0.41249148 -1.27702127  1.29853531 -0.09212458]]\n",
      "Mean: -0.08033248571145093\n",
      "Sum: -1.6066497142290188\n",
      "Mean on axis=1: [ 0.47635299  0.03582223 -0.49464679 -0.33885838]\n",
      "Sum on axis=1: [ 2.38176496  0.17911115 -2.47323393 -1.6942919 ]\n",
      "Sum on axis=0: [-1.75442362 -1.81059863 -0.84438373  2.98098737 -0.1782311 ]\n"
     ]
    }
   ],
   "source": [
    "# Mathematical and Statistical methods\n",
    "arr = np.random.randn(4,5)\n",
    "print(arr)\n",
    "print(\"Mean: {}\".format(arr.mean()))\n",
    "print(\"Sum: {}\".format(arr.sum()))\n",
    "\n",
    "# Functions like mean, sum take an optional axis argument that computes the\n",
    "# statistic over the given axis.\n",
    "\n",
    "# the following 2 lines compute mean, sum across the columns\n",
    "print(\"Mean on axis=1: {}\".format(arr.mean(axis=1)))\n",
    "print(\"Sum on axis=1: {}\".format(arr.sum(axis=1)))\n",
    "\n",
    "# compute sum across the rows\n",
    "print(\"Sum on axis=0: {}\".format(arr.sum(axis=0)))"
   ]
  },
  {
   "cell_type": "code",
   "execution_count": 32,
   "metadata": {},
   "outputs": [
    {
     "name": "stdout",
     "output_type": "stream",
     "text": [
      "any: True\n",
      "all: False\n"
     ]
    }
   ],
   "source": [
    "# methods for boolean array\n",
    "\n",
    "arr = np.random.randn(100)\n",
    "bools = arr > 0\n",
    "\n",
    "# boolean values are coerced to 1 (True) or 0 (False).\n",
    "# sum is often used as a means of counting True values in a boolean arrzay.\n",
    "(arr > 0).sum()\n",
    "\n",
    "# any, all\n",
    "\n",
    "print(\"any: {}\".format(bools.any()))\n",
    "\n",
    "print(\"all: {}\".format(bools.all()))"
   ]
  },
  {
   "cell_type": "code",
   "execution_count": 46,
   "metadata": {},
   "outputs": [
    {
     "name": "stdout",
     "output_type": "stream",
     "text": [
      "[0 1 2 3 4 5 6 7 8 9]\n",
      "[0 1 2 3 4]\n"
     ]
    }
   ],
   "source": [
    "arr1 = np.random.randint(10, size=(100))\n",
    "arr2 = np.random.randint(5, size=(100))\n",
    "\n",
    "# unique\n",
    "print(np.unique(arr))\n",
    "\n",
    "# intersection\n",
    "print(np.intersect1d(arr1, arr2))"
   ]
  },
  {
   "cell_type": "code",
   "execution_count": null,
   "metadata": {},
   "outputs": [],
   "source": []
  }
 ],
 "metadata": {
  "kernelspec": {
   "display_name": "Python 3",
   "language": "python",
   "name": "python3"
  },
  "language_info": {
   "codemirror_mode": {
    "name": "ipython",
    "version": 3
   },
   "file_extension": ".py",
   "mimetype": "text/x-python",
   "name": "python",
   "nbconvert_exporter": "python",
   "pygments_lexer": "ipython3",
   "version": "3.6.4"
  }
 },
 "nbformat": 4,
 "nbformat_minor": 2
}
